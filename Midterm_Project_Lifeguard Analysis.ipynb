{
 "cells": [
  {
   "cell_type": "markdown",
   "metadata": {},
   "source": [
    "# 體育署救生員考照分析 (2016~2018)\n",
    "##### 邱冠嘉 from NTU"
   ]
  },
  {
   "cell_type": "markdown",
   "metadata": {},
   "source": [
    "## 動機\n",
    "因爲體育署採用新制$\\space^{ 1}$，導致各個救生單位$\\space ^{2}$ 增加舉辦訓練上的難度。  \n",
    "這邊想要統計過去三年的結訓學員到底佔體育署結訓多少比例。  \n",
    "因爲水協已經決定大幅縮減考照班的數量，取而代之的是水協的傳統的救生班(無法拿到體育署檢定證，所以不能執業)  \n",
    "後續將會確定今年改成新制後救生員減少人數。\n",
    "\n",
    "$^{1}$ *新制需要增加團體保險費用，且水協認爲救生教練將因新制制度籌備難度增加，因此擬定加入教練到班費用(以往皆義務教學)*  \n",
    "$^{2}$ *我加入的水協以及其他很多友會(紅十字會、海爆)等等*  \n"
   ]
  },
  {
   "cell_type": "markdown",
   "metadata": {},
   "source": [
    "### 輸入需要的套件"
   ]
  },
  {
   "cell_type": "code",
   "execution_count": 3,
   "metadata": {},
   "outputs": [],
   "source": [
    "import pandas as pd\n",
    "import matplotlib.pyplot as plt\n",
    "import numpy as np\n",
    "from ipywidgets import IntProgress, Layout\n",
    "import ipywidgets as widgets\n",
    "from IPython.display import display\n",
    "from IPython.display import clear_output\n",
    "import matplotlib as mpl\n",
    "import locale\n",
    "mpl.rc(\"font\", family = \"Noto Sans CJK TC\")\n",
    "import time"
   ]
  },
  {
   "cell_type": "markdown",
   "metadata": {},
   "source": [
    "## 進度條\n",
    "經過測試，如果不使用`time.sleep()`暫停訪問，會被限制訪問一段時間(幾分鐘)  \n",
    "體育署的資料總共有943頁需要爬  \n",
    "這邊加上一個進度條的功能，至少可以看出來存取多少進度  \n",
    "在利用`time.clock()`量測跑平均一個interation要幾秒 (包含 waiting time 0.5秒)  "
   ]
  },
  {
   "cell_type": "markdown",
   "metadata": {},
   "source": [
    "### 計算10個Interaction所需時間"
   ]
  },
  {
   "cell_type": "code",
   "execution_count": 5,
   "metadata": {},
   "outputs": [
    {
     "name": "stdout",
     "output_type": "stream",
     "text": [
      "10個 Interaction 所需時間： 14.777 s \n",
      "平均1個 Interaction 需要 1.478 s\n"
     ]
    }
   ],
   "source": [
    "df = pd.DataFrame()\n",
    "tic = float(time.clock())\n",
    "for page in range(1,11):\n",
    "    data = pd.read_html(\"http://www.lifeguard.utaipei.edu.tw/D01.php?cid=0&keys=&r1=&page=%d\" %(page))\n",
    "    df = df.append(data[0][1:], ignore_index=True)\n",
    "    time.sleep(0.5)\n",
    "toc = float(time.clock())\n",
    "TimePerInter = (toc-tic)/10\n",
    "print(\"10個 Interaction 所需時間： %.3f s \\n平均1個 Interaction 需要 %.3f s\" %(toc -tic, TimePerInter))"
   ]
  },
  {
   "cell_type": "markdown",
   "metadata": {},
   "source": [
    "### 載入進度條及剩餘時間計算\n",
    "![](https://i.imgur.com/fq81Lrs.gif)"
   ]
  },
  {
   "cell_type": "code",
   "execution_count": 6,
   "metadata": {},
   "outputs": [
    {
     "data": {
      "application/vnd.jupyter.widget-view+json": {
       "model_id": "99f100688a84411a844142e8611b95c1",
       "version_major": 2,
       "version_minor": 0
      },
      "text/plain": [
       "VBox(children=(IntProgress(value=0, max=943), Text(value='1393.444', description='Remain Time: ')))"
      ]
     },
     "metadata": {},
     "output_type": "display_data"
    }
   ],
   "source": [
    "page = 0\n",
    "page_min = 1\n",
    "page_max = 943 # 最大頁數 943\n",
    "p = IntProgress(min = 0,max = page_max)\n",
    "\n",
    "time_label = widgets.Text('%.3f' %((page_max-page)*TimePerInter),description='Remain Time: ',disabled=False)\n",
    "widgets.VBox([p,time_label])"
   ]
  },
  {
   "cell_type": "markdown",
   "metadata": {},
   "source": [
    "## 開始爬資料"
   ]
  },
  {
   "cell_type": "code",
   "execution_count": 8,
   "metadata": {},
   "outputs": [],
   "source": [
    "df = pd.DataFrame()\n",
    "for page in range(page_min,page_max+1):\n",
    "    data = pd.read_html(\"http://www.lifeguard.utaipei.edu.tw/D01.php?cid=0&keys=&r1=&page=%d\" %(page))\n",
    "    df = df.append(data[0][1:], ignore_index=True)\n",
    "    p.value= int(page)\n",
    "    time.sleep(0.5)\n",
    "    time_label.value = '%.3f' %((page_max-page)*TimePerInter)"
   ]
  },
  {
   "cell_type": "markdown",
   "metadata": {},
   "source": [
    "### 加入標題後，看一下開頭"
   ]
  },
  {
   "cell_type": "code",
   "execution_count": 9,
   "metadata": {},
   "outputs": [
    {
     "data": {
      "text/html": [
       "<div>\n",
       "<style scoped>\n",
       "    .dataframe tbody tr th:only-of-type {\n",
       "        vertical-align: middle;\n",
       "    }\n",
       "\n",
       "    .dataframe tbody tr th {\n",
       "        vertical-align: top;\n",
       "    }\n",
       "\n",
       "    .dataframe thead th {\n",
       "        text-align: right;\n",
       "    }\n",
       "</style>\n",
       "<table border=\"1\" class=\"dataframe\">\n",
       "  <thead>\n",
       "    <tr style=\"text-align: right;\">\n",
       "      <th></th>\n",
       "      <th>證照資格</th>\n",
       "      <th>姓名</th>\n",
       "      <th>證照號碼</th>\n",
       "      <th>證照生效日</th>\n",
       "      <th>證照有效日</th>\n",
       "    </tr>\n",
       "  </thead>\n",
       "  <tbody>\n",
       "    <tr>\n",
       "      <th>0</th>\n",
       "      <td>游泳池</td>\n",
       "      <td>許Ｏ偉</td>\n",
       "      <td>紅會字第190001號</td>\n",
       "      <td>2019-04-03</td>\n",
       "      <td>2021-04-02</td>\n",
       "    </tr>\n",
       "    <tr>\n",
       "      <th>1</th>\n",
       "      <td>游泳池</td>\n",
       "      <td>賴Ｏ廣</td>\n",
       "      <td>紅會字第190002號</td>\n",
       "      <td>2019-04-03</td>\n",
       "      <td>2021-04-02</td>\n",
       "    </tr>\n",
       "    <tr>\n",
       "      <th>2</th>\n",
       "      <td>游泳池</td>\n",
       "      <td>郭Ｏ謙</td>\n",
       "      <td>紅會字第190003號</td>\n",
       "      <td>2019-04-03</td>\n",
       "      <td>2021-04-02</td>\n",
       "    </tr>\n",
       "    <tr>\n",
       "      <th>3</th>\n",
       "      <td>游泳池</td>\n",
       "      <td>羅Ｏ穎</td>\n",
       "      <td>紅會字第190004號</td>\n",
       "      <td>2019-04-03</td>\n",
       "      <td>2021-04-02</td>\n",
       "    </tr>\n",
       "    <tr>\n",
       "      <th>4</th>\n",
       "      <td>游泳池</td>\n",
       "      <td>鄭Ｏ中</td>\n",
       "      <td>海龍字第RSP180157號</td>\n",
       "      <td>2018-12-30</td>\n",
       "      <td>2021-12-29</td>\n",
       "    </tr>\n",
       "  </tbody>\n",
       "</table>\n",
       "</div>"
      ],
      "text/plain": [
       "  證照資格   姓名            證照號碼       證照生效日       證照有效日\n",
       "0  游泳池  許Ｏ偉     紅會字第190001號  2019-04-03  2021-04-02\n",
       "1  游泳池  賴Ｏ廣     紅會字第190002號  2019-04-03  2021-04-02\n",
       "2  游泳池  郭Ｏ謙     紅會字第190003號  2019-04-03  2021-04-02\n",
       "3  游泳池  羅Ｏ穎     紅會字第190004號  2019-04-03  2021-04-02\n",
       "4  游泳池  鄭Ｏ中  海龍字第RSP180157號  2018-12-30  2021-12-29"
      ]
     },
     "execution_count": 9,
     "metadata": {},
     "output_type": "execute_result"
    }
   ],
   "source": [
    "col_name= ['證照資格','姓名','證照號碼','證照生效日','證照有效日']\n",
    "df.columns = col_name\n",
    "df.head()"
   ]
  },
  {
   "cell_type": "markdown",
   "metadata": {},
   "source": [
    "## 統計三年內各協會之考照人數\n",
    "這邊想利用字典存入不同協會三年的考照人數，先將變數設好。"
   ]
  },
  {
   "cell_type": "code",
   "execution_count": 10,
   "metadata": {},
   "outputs": [],
   "source": [
    "years = ['2016','2017','2018']\n",
    "group_names = [\"水協\",\"海爆\", \"紅會\", \"水運\", \"水域\", \"海龍\",\"海總\",\"游救\"]\n",
    "LifeSaving = []\n",
    "Sea = []\n",
    "Red = []\n",
    "Sport =[]\n",
    "Area = []\n",
    "Dragon = []\n",
    "Sea_A = []\n",
    "Swim =[]\n",
    "group = {\"水協\":LifeSaving, \"海爆\":Sea, \"紅會\":Red,\n",
    "         \"水運\":Sport, \"水域\":Area, \"海龍\":Dragon, \"海總\":Sea_A,\n",
    "         \"游救\":Swim}"
   ]
  },
  {
   "cell_type": "markdown",
   "metadata": {},
   "source": [
    "### 依年份、協會統計人數\n",
    "`df[(df[\"證照號碼\"].str[:2] == g` 可取出證照號碼頭兩個字可作爲識別**不同協會**。  \n",
    "`df[\"證照生效日\"].str[:4] == year` 可取出證照生效日期頭四碼爲**年份**。  \n",
    "兩者結合就可以選出特定年份、特定協會的人員再利用`len()` 取得人數。"
   ]
  },
  {
   "cell_type": "code",
   "execution_count": 11,
   "metadata": {},
   "outputs": [],
   "source": [
    "for year in years:\n",
    "    for g in group_names:\n",
    "        group[g].append(len(df[(df[\"證照號碼\"].str[:2] == g) & (df[\"證照生效日\"].str[:4] == year)]))"
   ]
  },
  {
   "cell_type": "markdown",
   "metadata": {},
   "source": [
    "### 統計結果"
   ]
  },
  {
   "cell_type": "code",
   "execution_count": 12,
   "metadata": {},
   "outputs": [
    {
     "data": {
      "text/plain": [
       "{'水協': [493, 1246, 1336],\n",
       " '海爆': [423, 343, 632],\n",
       " '紅會': [363, 282, 147],\n",
       " '水運': [817, 445, 369],\n",
       " '水域': [41, 91, 386],\n",
       " '海龍': [21, 151, 193],\n",
       " '海總': [148, 92, 119],\n",
       " '游救': [474, 315, 420]}"
      ]
     },
     "execution_count": 12,
     "metadata": {},
     "output_type": "execute_result"
    }
   ],
   "source": [
    "group"
   ]
  },
  {
   "cell_type": "markdown",
   "metadata": {},
   "source": [
    "### 計算各年總人數"
   ]
  },
  {
   "cell_type": "code",
   "execution_count": 13,
   "metadata": {},
   "outputs": [
    {
     "data": {
      "text/plain": [
       "[3418, 3064, 3648]"
      ]
     },
     "execution_count": 13,
     "metadata": {},
     "output_type": "execute_result"
    }
   ],
   "source": [
    "year_sum = [0]*3\n",
    "for i in range(3):\n",
    "    year_sum[i] = len(df[df[\"證照生效日\"].str[:4] == years[i]])\n",
    "year_sum"
   ]
  },
  {
   "cell_type": "markdown",
   "metadata": {},
   "source": [
    "## 結果呈現：繪圖\n",
    "### 最後希望以核取清單(check box)並依使用者需要選擇想要比較的協會繪圖\n",
    "#### 定義資料繪圖函式"
   ]
  },
  {
   "cell_type": "code",
   "execution_count": 14,
   "metadata": {},
   "outputs": [],
   "source": [
    "def data_plot(水協 = True, 海爆 = True, 紅會 = True, 水運 = True, 水域 = True, 海龍 = True, 海總 = True, 游救 = True):\n",
    "    check_box_item = [水協, 海爆, 紅會, 水運, 水域, 海龍, 海總, 游救]\n",
    "    plt.figure(dpi=300,figsize=(10,5))\n",
    "    plt.subplot(1,2,1)\n",
    "    for i in range(8):\n",
    "        if check_box_item[i] == True:\n",
    "            plt.plot(years,group[group_names[i]], label=group_names[i])\n",
    "    plt.title(\"體育署救生員證人數\")\n",
    "    plt.xlabel(\"年度\")\n",
    "    plt.ylabel(\"人數 (人)\")\n",
    "    plt.legend(loc=(1.01,0.43))\n",
    "    plt.tight_layout(pad=0.4, w_pad=1.2, h_pad=1.0)\n",
    "    plt.subplot(1,2,2)\n",
    "    for i in range(8):\n",
    "        if check_box_item[i] == True:\n",
    "            plt.plot(years,np.array(group[group_names[i]])/np.array(year_sum)*100, label=group_names[i])\n",
    "    plt.legend(loc=(1.01,0.43))\n",
    "    plt.title(\"體育署救生員證佔當年度百分比\")\n",
    "    plt.xlabel(\"年度\")\n",
    "    plt.ylabel(\"百分比 (%)\")\n",
    "    plt.tight_layout(pad=0.4, w_pad=1.2, h_pad=1.0)"
   ]
  },
  {
   "cell_type": "markdown",
   "metadata": {},
   "source": [
    "### 定義互動函式\n",
    "下段會解釋爲什麼要使用 `interactive` 而不是 `interact`"
   ]
  },
  {
   "cell_type": "code",
   "execution_count": 15,
   "metadata": {},
   "outputs": [],
   "source": [
    "plot = widgets.interactive(data_plot,水協 = True, 海爆 = True, 紅會 = True, 水運 = True, 水域 = True, 海龍 = True, 海總 = True, 游救 = True)"
   ]
  },
  {
   "cell_type": "markdown",
   "metadata": {},
   "source": [
    "### 互動介面排版\n",
    "這邊可以看到我想要把核取方塊排成 $4*2$ 的形式  \n",
    "如果不使用 `interactive` 將不能把 `plot` 這個 widget 裡的變數單獨取出來。  \n",
    "下方可以看到 `controls` 中使用 `plot.children` 取出各變數。  \n",
    "*(`.children` 只能在 `interactive` 下使用)*  \n",
    "接著使用 `HBox`，將變數的核取方塊重新排列成恰當的排版。  \n",
    "`plot.children` 此陣列最後一項就是 `data_plot` 函數，取出來後與上面變數垂直排列(`VBox`)。"
   ]
  },
  {
   "cell_type": "code",
   "execution_count": 16,
   "metadata": {},
   "outputs": [
    {
     "data": {
      "application/vnd.jupyter.widget-view+json": {
       "model_id": "2339b882f9da4868bb1eb04fc06325e3",
       "version_major": 2,
       "version_minor": 0
      },
      "text/plain": [
       "VBox(children=(HBox(children=(Checkbox(value=True, description='水協'), Checkbox(value=True, description='海爆'), …"
      ]
     },
     "metadata": {},
     "output_type": "display_data"
    }
   ],
   "source": [
    "controls = widgets.HBox(plot.children[:-1], layout = Layout(flex_flow='row wrap'))\n",
    "output = plot.children[-1]\n",
    "display(widgets.VBox([controls,output]))"
   ]
  },
  {
   "cell_type": "markdown",
   "metadata": {},
   "source": [
    "## 結果示範\n",
    "![](https://i.imgur.com/QzfIYRK.gif)"
   ]
  },
  {
   "cell_type": "markdown",
   "metadata": {},
   "source": [
    "### 小插曲： 中文變數\n",
    "有趣的地方是前面沒有想到**用中文來命名變數**。  \n",
    "在這邊因爲希望使用`interact`時上面的核取方塊內容直接以**中文**表示。  \n",
    "才突然想到 Python 3 裡面已經可以使用中文當變數了！  \n",
    "否則，想要同時顯示變數核取方塊及其名稱，可能需要更麻煩的方式。"
   ]
  },
  {
   "cell_type": "markdown",
   "metadata": {},
   "source": [
    "## 結論\n",
    "#### 目前看來仍是以水協的考照人數居多(接近40%)，未來如果大幅縮減考照班，將會嚴重影響救生員人數。  \n",
    "且目前救生員薪水很低，又要負擔高風險，加上水協考照班的費用將比以往會大增(體育署規定增加團體保險費用及水協教練費用)。  \n",
    "使得各種因素都減低一般人參與救生訓練及考照的意願。"
   ]
  },
  {
   "cell_type": "code",
   "execution_count": null,
   "metadata": {},
   "outputs": [],
   "source": []
  }
 ],
 "metadata": {
  "kernelspec": {
   "display_name": "Python 3",
   "language": "python",
   "name": "python3"
  },
  "language_info": {
   "codemirror_mode": {
    "name": "ipython",
    "version": 3
   },
   "file_extension": ".py",
   "mimetype": "text/x-python",
   "name": "python",
   "nbconvert_exporter": "python",
   "pygments_lexer": "ipython3",
   "version": "3.6.7"
  }
 },
 "nbformat": 4,
 "nbformat_minor": 2
}
