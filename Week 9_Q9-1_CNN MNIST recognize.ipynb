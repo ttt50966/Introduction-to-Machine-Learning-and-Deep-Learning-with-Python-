{
 "cells": [
  {
   "cell_type": "markdown",
   "metadata": {},
   "source": [
    "# <font color=#4267b2>Q9-1 CNN</font>\n",
    "## <font color=#4267b2>設定及匯入需要的套件</font>"
   ]
  },
  {
   "cell_type": "code",
   "execution_count": 1,
   "metadata": {},
   "outputs": [
    {
     "name": "stdout",
     "output_type": "stream",
     "text": [
      "env: KERAS_BACKEND=tensorflow\n"
     ]
    }
   ],
   "source": [
    "%env KERAS_BACKEND=tensorflow"
   ]
  },
  {
   "cell_type": "code",
   "execution_count": 2,
   "metadata": {},
   "outputs": [
    {
     "name": "stderr",
     "output_type": "stream",
     "text": [
      "Using TensorFlow backend.\n"
     ]
    }
   ],
   "source": [
    "%matplotlib inline\n",
    "import numpy as np\n",
    "import matplotlib.pyplot as plt\n",
    "from keras.datasets import mnist\n",
    "from ipywidgets import interact_manual\n",
    "from keras.utils import np_utils, plot_model \n",
    "from keras.models import Sequential, Model\n",
    "from keras.utils.vis_utils import model_to_dot\n",
    "from keras.layers import Dense, Activation, Input, concatenate, Flatten\n",
    "from keras.optimizers import Nadam,SGD\n",
    "from keras.layers import Conv2D, MaxPool2D"
   ]
  },
  {
   "cell_type": "markdown",
   "metadata": {},
   "source": [
    "## <font color=#4267b2>處理資料</font>\n",
    "### <font color=#4267b2>讀入MNIST檔案</font>"
   ]
  },
  {
   "cell_type": "code",
   "execution_count": 3,
   "metadata": {},
   "outputs": [],
   "source": [
    "(x_train0, y_train0), (x_test0, y_test0) = mnist.load_data()"
   ]
  },
  {
   "cell_type": "markdown",
   "metadata": {},
   "source": [
    "### <font color=#4267b2> x 正規化至0~1之間</font>\n",
    "### <font color=#4267b2> y 做one-hot處理</font>"
   ]
  },
  {
   "cell_type": "code",
   "execution_count": 4,
   "metadata": {},
   "outputs": [],
   "source": [
    "y_train = np_utils.to_categorical(y_train0, 10)\n",
    "y_test = np_utils.to_categorical(y_test0, 10)\n",
    "x_train = x_train0/255\n",
    "x_test = x_test0/255\n",
    "x_train_re = x_train.reshape(60000, 28,28,1)\n",
    "x_test_re = x_test.reshape(10000, 28,28,1)"
   ]
  },
  {
   "cell_type": "markdown",
   "metadata": {},
   "source": [
    "### <font color=#4267b2> 看看手寫文字長相</font>"
   ]
  },
  {
   "cell_type": "code",
   "execution_count": 5,
   "metadata": {},
   "outputs": [
    {
     "data": {
      "text/plain": [
       "<matplotlib.image.AxesImage at 0x2665810d3c8>"
      ]
     },
     "execution_count": 5,
     "metadata": {},
     "output_type": "execute_result"
    },
    {
     "data": {
      "image/png": "[encoded data removed]",
      "text/plain": [
       "<Figure size 432x288 with 1 Axes>"
      ]
     },
     "metadata": {
      "needs_background": "light"
     },
     "output_type": "display_data"
    }
   ],
   "source": [
    "X=x_train[94].reshape(28,28)\n",
    "plt.imshow(X)"
   ]
  },
  {
   "cell_type": "markdown",
   "metadata": {},
   "source": [
    "## <font color=#4267b2> 使用Function API 設計自己的CNN網路</font> \n",
    "### <font color=#4267b2> 根據之前的結果普遍用'selu'、'relu'有不錯的結果</font>"
   ]
  },
  {
   "cell_type": "code",
   "execution_count": 6,
   "metadata": {},
   "outputs": [],
   "source": [
    "x = Input(shape=(28,28,1))\n",
    "f_1=Conv2D(3,(5,5), padding='same',activation='relu')\n",
    "pool_1 = MaxPool2D(pool_size=(2, 2))\n",
    "f_2=Conv2D(6,(5,5), padding='same',activation='relu')\n",
    "pool_2 = MaxPool2D(pool_size=(2, 2))\n",
    "f_3=Conv2D(12,(5,5), padding='same',activation='selu')\n",
    "pool_3 = MaxPool2D(pool_size=(2, 2))\n",
    "f_4=Dense(10, activation='softmax')"
   ]
  },
  {
   "cell_type": "markdown",
   "metadata": {},
   "source": [
    "### <font color=#4267b2>看看輸入 x</font>"
   ]
  },
  {
   "cell_type": "code",
   "execution_count": 7,
   "metadata": {},
   "outputs": [
    {
     "name": "stdout",
     "output_type": "stream",
     "text": [
      "Tensor(\"input_1:0\", shape=(?, 28, 28, 1), dtype=float32)\n"
     ]
    }
   ],
   "source": [
    "print(x)"
   ]
  },
  {
   "cell_type": "markdown",
   "metadata": {},
   "source": [
    "### <font color=#4267b2> Function API</font>"
   ]
  },
  {
   "cell_type": "code",
   "execution_count": 8,
   "metadata": {},
   "outputs": [],
   "source": [
    "h_1=pool_1(f_1(x))\n",
    "h_2=pool_2(f_2(h_1))\n",
    "h_3=Flatten()(pool_3(f_3(h_2)))\n",
    "y=f_4(h_3)"
   ]
  },
  {
   "cell_type": "markdown",
   "metadata": {},
   "source": [
    "### <font color=#4267b2> 產生模型</font>"
   ]
  },
  {
   "cell_type": "code",
   "execution_count": 9,
   "metadata": {},
   "outputs": [
    {
     "name": "stdout",
     "output_type": "stream",
     "text": [
      "_________________________________________________________________\n",
      "Layer (type)                 Output Shape              Param #   \n",
      "=================================================================\n",
      "input_1 (InputLayer)         (None, 28, 28, 1)         0         \n",
      "_________________________________________________________________\n",
      "conv2d_1 (Conv2D)            (None, 28, 28, 3)         78        \n",
      "_________________________________________________________________\n",
      "max_pooling2d_1 (MaxPooling2 (None, 14, 14, 3)         0         \n",
      "_________________________________________________________________\n",
      "conv2d_2 (Conv2D)            (None, 14, 14, 6)         456       \n",
      "_________________________________________________________________\n",
      "max_pooling2d_2 (MaxPooling2 (None, 7, 7, 6)           0         \n",
      "_________________________________________________________________\n",
      "conv2d_3 (Conv2D)            (None, 7, 7, 12)          1812      \n",
      "_________________________________________________________________\n",
      "max_pooling2d_3 (MaxPooling2 (None, 3, 3, 12)          0         \n",
      "_________________________________________________________________\n",
      "flatten_1 (Flatten)          (None, 108)               0         \n",
      "_________________________________________________________________\n",
      "dense_1 (Dense)              (None, 10)                1090      \n",
      "=================================================================\n",
      "Total params: 3,436\n",
      "Trainable params: 3,436\n",
      "Non-trainable params: 0\n",
      "_________________________________________________________________\n"
     ]
    }
   ],
   "source": [
    "model=Model(x,y)\n",
    "model.summary()"
   ]
  },
  {
   "cell_type": "markdown",
   "metadata": {},
   "source": [
    "## <font color=#4267b2>比較兩種方式畫出流程圖</font>\n",
    "### <font color=#4267b2>1. 利用pydot畫出流程圖</font>\n",
    "#### <font color=#4267b2>並且把字體、背景調整</font>"
   ]
  },
  {
   "cell_type": "code",
   "execution_count": 122,
   "metadata": {},
   "outputs": [],
   "source": [
    "model_dot_str = model_to_dot(model,show_shapes=True,show_layer_names=True).to_string()\n",
    "index = model_dot_str.find('rankdir=TB;\\n')\n",
    "size_str = 'size=\"20\";\\n'\n",
    "graph_str = 'graph [fontname = \"helvetica\"];\\n'\n",
    "node_str = 'node [fontname = \"helvetica\",shape = \"Mrecord\",style=filled, fillcolor=\"skyblue\"];\\n'\n",
    "edge_str = 'edge [fontname = \"helvetica\",shape =\"Mrecord\", color=\"darkgreen\"];'\n",
    "modified_dot_data = model_dot_str[:index+len('rankdir=TB;\\n')] + \\\n",
    "                    size_str + \\\n",
    "                    node_str + \\\n",
    "                    node_str + \\\n",
    "                    edge_str + \\\n",
    "                    model_dot_str[index:]"
   ]
  },
  {
   "cell_type": "code",
   "execution_count": 123,
   "metadata": {},
   "outputs": [
    {
     "data": {
      "image/svg+xml": [
       "<?xml version=\"1.0\" encoding=\"UTF-8\" standalone=\"no\"?>\r\n",
       "<!DOCTYPE svg PUBLIC \"-//W3C//DTD SVG 1.1//EN\"\r\n",
       " \"http://www.w3.org/Graphics/SVG/1.1/DTD/svg11.dtd\">\r\n",
       "<!-- Generated by graphviz version 2.38.0 (20140413.2041)\r\n",
       " -->\r\n",
       "<!-- Title: G Pages: 1 -->\r\n",
       "<svg width=\"420pt\" height=\"719pt\"\r\n",
       " viewBox=\"0.00 0.00 420.00 719.00\" xmlns=\"http://www.w3.org/2000/svg\" xmlns:xlink=\"http://www.w3.org/1999/xlink\">\r\n",
       "<g id=\"graph0\" class=\"graph\" transform=\"scale(1 1) rotate(0) translate(4 715)\">\r\n",
       "<title>G</title>\r\n",
       "<polygon fill=\"white\" stroke=\"none\" points=\"-4,4 -4,-715 416,-715 416,4 -4,4\"/>\r\n",
       "<!-- 2638587708192 -->\r\n",
       "<g id=\"node1\" class=\"node\"><title>2638587708192</title>\r\n",
       "<polygon fill=\"skyblue\" stroke=\"black\" points=\"46.5,-664.5 46.5,-710.5 365.5,-710.5 365.5,-664.5 46.5,-664.5\"/>\r\n",
       "<text text-anchor=\"middle\" x=\"115\" y=\"-683.8\" font-family=\"Helvetica,sans-Serif\" font-size=\"14.00\">input_1: InputLayer</text>\r\n",
       "<polyline fill=\"none\" stroke=\"black\" points=\"183.5,-664.5 183.5,-710.5 \"/>\r\n",
       "<text text-anchor=\"middle\" x=\"213\" y=\"-695.3\" font-family=\"Helvetica,sans-Serif\" font-size=\"14.00\">input:</text>\r\n",
       "<polyline fill=\"none\" stroke=\"black\" points=\"183.5,-687.5 242.5,-687.5 \"/>\r\n",
       "<text text-anchor=\"middle\" x=\"213\" y=\"-672.3\" font-family=\"Helvetica,sans-Serif\" font-size=\"14.00\">output:</text>\r\n",
       "<polyline fill=\"none\" stroke=\"black\" points=\"242.5,-664.5 242.5,-710.5 \"/>\r\n",
       "<text text-anchor=\"middle\" x=\"304\" y=\"-695.3\" font-family=\"Helvetica,sans-Serif\" font-size=\"14.00\">(None, 28, 28, 1)</text>\r\n",
       "<polyline fill=\"none\" stroke=\"black\" points=\"242.5,-687.5 365.5,-687.5 \"/>\r\n",
       "<text text-anchor=\"middle\" x=\"304\" y=\"-672.3\" font-family=\"Helvetica,sans-Serif\" font-size=\"14.00\">(None, 28, 28, 1)</text>\r\n",
       "</g>\r\n",
       "<!-- 2638587941216 -->\r\n",
       "<g id=\"node2\" class=\"node\"><title>2638587941216</title>\r\n",
       "<polygon fill=\"skyblue\" stroke=\"black\" points=\"45.5,-581.5 45.5,-627.5 366.5,-627.5 366.5,-581.5 45.5,-581.5\"/>\r\n",
       "<text text-anchor=\"middle\" x=\"115\" y=\"-600.8\" font-family=\"Helvetica,sans-Serif\" font-size=\"14.00\">conv2d_1: Conv2D</text>\r\n",
       "<polyline fill=\"none\" stroke=\"black\" points=\"184.5,-581.5 184.5,-627.5 \"/>\r\n",
       "<text text-anchor=\"middle\" x=\"214\" y=\"-612.3\" font-family=\"Helvetica,sans-Serif\" font-size=\"14.00\">input:</text>\r\n",
       "<polyline fill=\"none\" stroke=\"black\" points=\"184.5,-604.5 243.5,-604.5 \"/>\r\n",
       "<text text-anchor=\"middle\" x=\"214\" y=\"-589.3\" font-family=\"Helvetica,sans-Serif\" font-size=\"14.00\">output:</text>\r\n",
       "<polyline fill=\"none\" stroke=\"black\" points=\"243.5,-581.5 243.5,-627.5 \"/>\r\n",
       "<text text-anchor=\"middle\" x=\"305\" y=\"-612.3\" font-family=\"Helvetica,sans-Serif\" font-size=\"14.00\">(None, 28, 28, 1)</text>\r\n",
       "<polyline fill=\"none\" stroke=\"black\" points=\"243.5,-604.5 366.5,-604.5 \"/>\r\n",
       "<text text-anchor=\"middle\" x=\"305\" y=\"-589.3\" font-family=\"Helvetica,sans-Serif\" font-size=\"14.00\">(None, 28, 28, 3)</text>\r\n",
       "</g>\r\n",
       "<!-- 2638587708192&#45;&gt;2638587941216 -->\r\n",
       "<g id=\"edge1\" class=\"edge\"><title>2638587708192&#45;&gt;2638587941216</title>\r\n",
       "<path fill=\"none\" stroke=\"darkgreen\" d=\"M206,-664.366C206,-656.152 206,-646.658 206,-637.725\"/>\r\n",
       "<polygon fill=\"darkgreen\" stroke=\"darkgreen\" points=\"209.5,-637.607 206,-627.607 202.5,-637.607 209.5,-637.607\"/>\r\n",
       "</g>\r\n",
       "<!-- 2638587708304 -->\r\n",
       "<g id=\"node3\" class=\"node\"><title>2638587708304</title>\r\n",
       "<polygon fill=\"skyblue\" stroke=\"black\" points=\"0,-498.5 0,-544.5 412,-544.5 412,-498.5 0,-498.5\"/>\r\n",
       "<text text-anchor=\"middle\" x=\"115\" y=\"-517.8\" font-family=\"Helvetica,sans-Serif\" font-size=\"14.00\">max_pooling2d_1: MaxPooling2D</text>\r\n",
       "<polyline fill=\"none\" stroke=\"black\" points=\"230,-498.5 230,-544.5 \"/>\r\n",
       "<text text-anchor=\"middle\" x=\"259.5\" y=\"-529.3\" font-family=\"Helvetica,sans-Serif\" font-size=\"14.00\">input:</text>\r\n",
       "<polyline fill=\"none\" stroke=\"black\" points=\"230,-521.5 289,-521.5 \"/>\r\n",
       "<text text-anchor=\"middle\" x=\"259.5\" y=\"-506.3\" font-family=\"Helvetica,sans-Serif\" font-size=\"14.00\">output:</text>\r\n",
       "<polyline fill=\"none\" stroke=\"black\" points=\"289,-498.5 289,-544.5 \"/>\r\n",
       "<text text-anchor=\"middle\" x=\"350.5\" y=\"-529.3\" font-family=\"Helvetica,sans-Serif\" font-size=\"14.00\">(None, 28, 28, 3)</text>\r\n",
       "<polyline fill=\"none\" stroke=\"black\" points=\"289,-521.5 412,-521.5 \"/>\r\n",
       "<text text-anchor=\"middle\" x=\"350.5\" y=\"-506.3\" font-family=\"Helvetica,sans-Serif\" font-size=\"14.00\">(None, 14, 14, 3)</text>\r\n",
       "</g>\r\n",
       "<!-- 2638587941216&#45;&gt;2638587708304 -->\r\n",
       "<g id=\"edge2\" class=\"edge\"><title>2638587941216&#45;&gt;2638587708304</title>\r\n",
       "<path fill=\"none\" stroke=\"darkgreen\" d=\"M206,-581.366C206,-573.152 206,-563.658 206,-554.725\"/>\r\n",
       "<polygon fill=\"darkgreen\" stroke=\"darkgreen\" points=\"209.5,-554.607 206,-544.607 202.5,-554.607 209.5,-554.607\"/>\r\n",
       "</g>\r\n",
       "<!-- 2638587941776 -->\r\n",
       "<g id=\"node4\" class=\"node\"><title>2638587941776</title>\r\n",
       "<polygon fill=\"skyblue\" stroke=\"black\" points=\"45.5,-415.5 45.5,-461.5 366.5,-461.5 366.5,-415.5 45.5,-415.5\"/>\r\n",
       "<text text-anchor=\"middle\" x=\"115\" y=\"-434.8\" font-family=\"Helvetica,sans-Serif\" font-size=\"14.00\">conv2d_2: Conv2D</text>\r\n",
       "<polyline fill=\"none\" stroke=\"black\" points=\"184.5,-415.5 184.5,-461.5 \"/>\r\n",
       "<text text-anchor=\"middle\" x=\"214\" y=\"-446.3\" font-family=\"Helvetica,sans-Serif\" font-size=\"14.00\">input:</text>\r\n",
       "<polyline fill=\"none\" stroke=\"black\" points=\"184.5,-438.5 243.5,-438.5 \"/>\r\n",
       "<text text-anchor=\"middle\" x=\"214\" y=\"-423.3\" font-family=\"Helvetica,sans-Serif\" font-size=\"14.00\">output:</text>\r\n",
       "<polyline fill=\"none\" stroke=\"black\" points=\"243.5,-415.5 243.5,-461.5 \"/>\r\n",
       "<text text-anchor=\"middle\" x=\"305\" y=\"-446.3\" font-family=\"Helvetica,sans-Serif\" font-size=\"14.00\">(None, 14, 14, 3)</text>\r\n",
       "<polyline fill=\"none\" stroke=\"black\" points=\"243.5,-438.5 366.5,-438.5 \"/>\r\n",
       "<text text-anchor=\"middle\" x=\"305\" y=\"-423.3\" font-family=\"Helvetica,sans-Serif\" font-size=\"14.00\">(None, 14, 14, 6)</text>\r\n",
       "</g>\r\n",
       "<!-- 2638587708304&#45;&gt;2638587941776 -->\r\n",
       "<g id=\"edge3\" class=\"edge\"><title>2638587708304&#45;&gt;2638587941776</title>\r\n",
       "<path fill=\"none\" stroke=\"darkgreen\" d=\"M206,-498.366C206,-490.152 206,-480.658 206,-471.725\"/>\r\n",
       "<polygon fill=\"darkgreen\" stroke=\"darkgreen\" points=\"209.5,-471.607 206,-461.607 202.5,-471.607 209.5,-471.607\"/>\r\n",
       "</g>\r\n",
       "<!-- 2638587941608 -->\r\n",
       "<g id=\"node5\" class=\"node\"><title>2638587941608</title>\r\n",
       "<polygon fill=\"skyblue\" stroke=\"black\" points=\"0,-332.5 0,-378.5 412,-378.5 412,-332.5 0,-332.5\"/>\r\n",
       "<text text-anchor=\"middle\" x=\"115\" y=\"-351.8\" font-family=\"Helvetica,sans-Serif\" font-size=\"14.00\">max_pooling2d_2: MaxPooling2D</text>\r\n",
       "<polyline fill=\"none\" stroke=\"black\" points=\"230,-332.5 230,-378.5 \"/>\r\n",
       "<text text-anchor=\"middle\" x=\"259.5\" y=\"-363.3\" font-family=\"Helvetica,sans-Serif\" font-size=\"14.00\">input:</text>\r\n",
       "<polyline fill=\"none\" stroke=\"black\" points=\"230,-355.5 289,-355.5 \"/>\r\n",
       "<text text-anchor=\"middle\" x=\"259.5\" y=\"-340.3\" font-family=\"Helvetica,sans-Serif\" font-size=\"14.00\">output:</text>\r\n",
       "<polyline fill=\"none\" stroke=\"black\" points=\"289,-332.5 289,-378.5 \"/>\r\n",
       "<text text-anchor=\"middle\" x=\"350.5\" y=\"-363.3\" font-family=\"Helvetica,sans-Serif\" font-size=\"14.00\">(None, 14, 14, 6)</text>\r\n",
       "<polyline fill=\"none\" stroke=\"black\" points=\"289,-355.5 412,-355.5 \"/>\r\n",
       "<text text-anchor=\"middle\" x=\"350.5\" y=\"-340.3\" font-family=\"Helvetica,sans-Serif\" font-size=\"14.00\">(None, 7, 7, 6)</text>\r\n",
       "</g>\r\n",
       "<!-- 2638587941776&#45;&gt;2638587941608 -->\r\n",
       "<g id=\"edge4\" class=\"edge\"><title>2638587941776&#45;&gt;2638587941608</title>\r\n",
       "<path fill=\"none\" stroke=\"darkgreen\" d=\"M206,-415.366C206,-407.152 206,-397.658 206,-388.725\"/>\r\n",
       "<polygon fill=\"darkgreen\" stroke=\"darkgreen\" points=\"209.5,-388.607 206,-378.607 202.5,-388.607 209.5,-388.607\"/>\r\n",
       "</g>\r\n",
       "<!-- 2638587942784 -->\r\n",
       "<g id=\"node6\" class=\"node\"><title>2638587942784</title>\r\n",
       "<polygon fill=\"skyblue\" stroke=\"black\" points=\"49.5,-249.5 49.5,-295.5 362.5,-295.5 362.5,-249.5 49.5,-249.5\"/>\r\n",
       "<text text-anchor=\"middle\" x=\"119\" y=\"-268.8\" font-family=\"Helvetica,sans-Serif\" font-size=\"14.00\">conv2d_3: Conv2D</text>\r\n",
       "<polyline fill=\"none\" stroke=\"black\" points=\"188.5,-249.5 188.5,-295.5 \"/>\r\n",
       "<text text-anchor=\"middle\" x=\"218\" y=\"-280.3\" font-family=\"Helvetica,sans-Serif\" font-size=\"14.00\">input:</text>\r\n",
       "<polyline fill=\"none\" stroke=\"black\" points=\"188.5,-272.5 247.5,-272.5 \"/>\r\n",
       "<text text-anchor=\"middle\" x=\"218\" y=\"-257.3\" font-family=\"Helvetica,sans-Serif\" font-size=\"14.00\">output:</text>\r\n",
       "<polyline fill=\"none\" stroke=\"black\" points=\"247.5,-249.5 247.5,-295.5 \"/>\r\n",
       "<text text-anchor=\"middle\" x=\"305\" y=\"-280.3\" font-family=\"Helvetica,sans-Serif\" font-size=\"14.00\">(None, 7, 7, 6)</text>\r\n",
       "<polyline fill=\"none\" stroke=\"black\" points=\"247.5,-272.5 362.5,-272.5 \"/>\r\n",
       "<text text-anchor=\"middle\" x=\"305\" y=\"-257.3\" font-family=\"Helvetica,sans-Serif\" font-size=\"14.00\">(None, 7, 7, 12)</text>\r\n",
       "</g>\r\n",
       "<!-- 2638587941608&#45;&gt;2638587942784 -->\r\n",
       "<g id=\"edge5\" class=\"edge\"><title>2638587941608&#45;&gt;2638587942784</title>\r\n",
       "<path fill=\"none\" stroke=\"darkgreen\" d=\"M206,-332.366C206,-324.152 206,-314.658 206,-305.725\"/>\r\n",
       "<polygon fill=\"darkgreen\" stroke=\"darkgreen\" points=\"209.5,-305.607 206,-295.607 202.5,-305.607 209.5,-305.607\"/>\r\n",
       "</g>\r\n",
       "<!-- 2638587942616 -->\r\n",
       "<g id=\"node7\" class=\"node\"><title>2638587942616</title>\r\n",
       "<polygon fill=\"skyblue\" stroke=\"black\" points=\"4,-166.5 4,-212.5 408,-212.5 408,-166.5 4,-166.5\"/>\r\n",
       "<text text-anchor=\"middle\" x=\"119\" y=\"-185.8\" font-family=\"Helvetica,sans-Serif\" font-size=\"14.00\">max_pooling2d_3: MaxPooling2D</text>\r\n",
       "<polyline fill=\"none\" stroke=\"black\" points=\"234,-166.5 234,-212.5 \"/>\r\n",
       "<text text-anchor=\"middle\" x=\"263.5\" y=\"-197.3\" font-family=\"Helvetica,sans-Serif\" font-size=\"14.00\">input:</text>\r\n",
       "<polyline fill=\"none\" stroke=\"black\" points=\"234,-189.5 293,-189.5 \"/>\r\n",
       "<text text-anchor=\"middle\" x=\"263.5\" y=\"-174.3\" font-family=\"Helvetica,sans-Serif\" font-size=\"14.00\">output:</text>\r\n",
       "<polyline fill=\"none\" stroke=\"black\" points=\"293,-166.5 293,-212.5 \"/>\r\n",
       "<text text-anchor=\"middle\" x=\"350.5\" y=\"-197.3\" font-family=\"Helvetica,sans-Serif\" font-size=\"14.00\">(None, 7, 7, 12)</text>\r\n",
       "<polyline fill=\"none\" stroke=\"black\" points=\"293,-189.5 408,-189.5 \"/>\r\n",
       "<text text-anchor=\"middle\" x=\"350.5\" y=\"-174.3\" font-family=\"Helvetica,sans-Serif\" font-size=\"14.00\">(None, 3, 3, 12)</text>\r\n",
       "</g>\r\n",
       "<!-- 2638587942784&#45;&gt;2638587942616 -->\r\n",
       "<g id=\"edge6\" class=\"edge\"><title>2638587942784&#45;&gt;2638587942616</title>\r\n",
       "<path fill=\"none\" stroke=\"darkgreen\" d=\"M206,-249.366C206,-241.152 206,-231.658 206,-222.725\"/>\r\n",
       "<polygon fill=\"darkgreen\" stroke=\"darkgreen\" points=\"209.5,-222.607 206,-212.607 202.5,-222.607 209.5,-222.607\"/>\r\n",
       "</g>\r\n",
       "<!-- 2638587743704 -->\r\n",
       "<g id=\"node8\" class=\"node\"><title>2638587743704</title>\r\n",
       "<polygon fill=\"skyblue\" stroke=\"black\" points=\"58,-83.5 58,-129.5 354,-129.5 354,-83.5 58,-83.5\"/>\r\n",
       "<text text-anchor=\"middle\" x=\"119\" y=\"-102.8\" font-family=\"Helvetica,sans-Serif\" font-size=\"14.00\">flatten_1: Flatten</text>\r\n",
       "<polyline fill=\"none\" stroke=\"black\" points=\"180,-83.5 180,-129.5 \"/>\r\n",
       "<text text-anchor=\"middle\" x=\"209.5\" y=\"-114.3\" font-family=\"Helvetica,sans-Serif\" font-size=\"14.00\">input:</text>\r\n",
       "<polyline fill=\"none\" stroke=\"black\" points=\"180,-106.5 239,-106.5 \"/>\r\n",
       "<text text-anchor=\"middle\" x=\"209.5\" y=\"-91.3\" font-family=\"Helvetica,sans-Serif\" font-size=\"14.00\">output:</text>\r\n",
       "<polyline fill=\"none\" stroke=\"black\" points=\"239,-83.5 239,-129.5 \"/>\r\n",
       "<text text-anchor=\"middle\" x=\"296.5\" y=\"-114.3\" font-family=\"Helvetica,sans-Serif\" font-size=\"14.00\">(None, 3, 3, 12)</text>\r\n",
       "<polyline fill=\"none\" stroke=\"black\" points=\"239,-106.5 354,-106.5 \"/>\r\n",
       "<text text-anchor=\"middle\" x=\"296.5\" y=\"-91.3\" font-family=\"Helvetica,sans-Serif\" font-size=\"14.00\">(None, 108)</text>\r\n",
       "</g>\r\n",
       "<!-- 2638587942616&#45;&gt;2638587743704 -->\r\n",
       "<g id=\"edge7\" class=\"edge\"><title>2638587942616&#45;&gt;2638587743704</title>\r\n",
       "<path fill=\"none\" stroke=\"darkgreen\" d=\"M206,-166.366C206,-158.152 206,-148.658 206,-139.725\"/>\r\n",
       "<polygon fill=\"darkgreen\" stroke=\"darkgreen\" points=\"209.5,-139.607 206,-129.607 202.5,-139.607 209.5,-139.607\"/>\r\n",
       "</g>\r\n",
       "<!-- 2638587943176 -->\r\n",
       "<g id=\"node9\" class=\"node\"><title>2638587943176</title>\r\n",
       "<polygon fill=\"skyblue\" stroke=\"black\" points=\"69.5,-0.5 69.5,-46.5 342.5,-46.5 342.5,-0.5 69.5,-0.5\"/>\r\n",
       "<text text-anchor=\"middle\" x=\"130.5\" y=\"-19.8\" font-family=\"Helvetica,sans-Serif\" font-size=\"14.00\">dense_1: Dense</text>\r\n",
       "<polyline fill=\"none\" stroke=\"black\" points=\"191.5,-0.5 191.5,-46.5 \"/>\r\n",
       "<text text-anchor=\"middle\" x=\"221\" y=\"-31.3\" font-family=\"Helvetica,sans-Serif\" font-size=\"14.00\">input:</text>\r\n",
       "<polyline fill=\"none\" stroke=\"black\" points=\"191.5,-23.5 250.5,-23.5 \"/>\r\n",
       "<text text-anchor=\"middle\" x=\"221\" y=\"-8.3\" font-family=\"Helvetica,sans-Serif\" font-size=\"14.00\">output:</text>\r\n",
       "<polyline fill=\"none\" stroke=\"black\" points=\"250.5,-0.5 250.5,-46.5 \"/>\r\n",
       "<text text-anchor=\"middle\" x=\"296.5\" y=\"-31.3\" font-family=\"Helvetica,sans-Serif\" font-size=\"14.00\">(None, 108)</text>\r\n",
       "<polyline fill=\"none\" stroke=\"black\" points=\"250.5,-23.5 342.5,-23.5 \"/>\r\n",
       "<text text-anchor=\"middle\" x=\"296.5\" y=\"-8.3\" font-family=\"Helvetica,sans-Serif\" font-size=\"14.00\">(None, 10)</text>\r\n",
       "</g>\r\n",
       "<!-- 2638587743704&#45;&gt;2638587943176 -->\r\n",
       "<g id=\"edge8\" class=\"edge\"><title>2638587743704&#45;&gt;2638587943176</title>\r\n",
       "<path fill=\"none\" stroke=\"darkgreen\" d=\"M206,-83.3664C206,-75.1516 206,-65.6579 206,-56.7252\"/>\r\n",
       "<polygon fill=\"darkgreen\" stroke=\"darkgreen\" points=\"209.5,-56.6068 206,-46.6068 202.5,-56.6069 209.5,-56.6068\"/>\r\n",
       "</g>\r\n",
       "</g>\r\n",
       "</svg>\r\n"
      ],
      "text/plain": [
       "<graphviz.files.Source at 0x2665a1dc438>"
      ]
     },
     "execution_count": 123,
     "metadata": {},
     "output_type": "execute_result"
    }
   ],
   "source": [
    "from graphviz import Source\n",
    "src = Source(modified_dot_data)\n",
    "#print(model_dot_str,modified_dot_data)\n",
    "src"
   ]
  },
  {
   "cell_type": "markdown",
   "metadata": {},
   "source": [
    "### <font color=#4267b2> 此處參考之前的參數，略微調高學習率至0.01</font>"
   ]
  },
  {
   "cell_type": "code",
   "execution_count": 71,
   "metadata": {},
   "outputs": [],
   "source": [
    "optimizer_Na = Nadam(lr=0.01, beta_1=0.9, beta_2=0.999, epsilon=1e-08, schedule_decay=0.004)\n",
    "model.compile(optimizer= optimizer_Na, loss='categorical_crossentropy', metrics=['acc'])"
   ]
  },
  {
   "cell_type": "code",
   "execution_count": 72,
   "metadata": {},
   "outputs": [
    {
     "name": "stdout",
     "output_type": "stream",
     "text": [
      "Epoch 1/10\n",
      "60000/60000 [==============================] - 26s 436us/step - loss: 0.5616 - acc: 0.8212\n",
      "Epoch 2/10\n",
      "60000/60000 [==============================] - 26s 434us/step - loss: 0.2890 - acc: 0.9230\n",
      "Epoch 3/10\n",
      "60000/60000 [==============================] - 26s 435us/step - loss: 0.1223 - acc: 0.9627\n",
      "Epoch 4/10\n",
      "60000/60000 [==============================] - 26s 434us/step - loss: 0.0870 - acc: 0.9729\n",
      "Epoch 5/10\n",
      "60000/60000 [==============================] - 26s 435us/step - loss: 0.0730 - acc: 0.9773\n",
      "Epoch 6/10\n",
      "60000/60000 [==============================] - 26s 437us/step - loss: 0.0635 - acc: 0.9803\n",
      "Epoch 7/10\n",
      "60000/60000 [==============================] - 27s 447us/step - loss: 0.0575 - acc: 0.9820\n",
      "Epoch 8/10\n",
      "60000/60000 [==============================] - 26s 438us/step - loss: 0.0522 - acc: 0.9837\n",
      "Epoch 9/10\n",
      "60000/60000 [==============================] - 26s 436us/step - loss: 0.0468 - acc: 0.9855\n",
      "Epoch 10/10\n",
      "60000/60000 [==============================] - 26s 436us/step - loss: 0.0448 - acc: 0.9857\n"
     ]
    },
    {
     "data": {
      "text/plain": [
       "<keras.callbacks.History at 0x22f10157b70>"
      ]
     },
     "execution_count": 72,
     "metadata": {},
     "output_type": "execute_result"
    }
   ],
   "source": [
    "model.fit(x_train_re,y_train,batch_size=1000, epochs=10)"
   ]
  },
  {
   "cell_type": "markdown",
   "metadata": {},
   "source": [
    "## <font color=#4267b2> 最終結果</font>"
   ]
  },
  {
   "cell_type": "code",
   "execution_count": 74,
   "metadata": {},
   "outputs": [
    {
     "name": "stdout",
     "output_type": "stream",
     "text": [
      "10000/10000 [==============================] - 4s 374us/step\n"
     ]
    },
    {
     "data": {
      "text/plain": [
       "0.9854"
      ]
     },
     "execution_count": 74,
     "metadata": {},
     "output_type": "execute_result"
    }
   ],
   "source": [
    "score = model.evaluate(x_test_re,y_test)\n",
    "score[1]"
   ]
  },
  {
   "cell_type": "code",
   "execution_count": 75,
   "metadata": {},
   "outputs": [
    {
     "name": "stdout",
     "output_type": "stream",
     "text": [
      "測試資料的 loss: 0.044471\n",
      "測試資料的正確率: 0.985400\n"
     ]
    }
   ],
   "source": [
    "print('測試資料的 loss: %f'%(score[0]))\n",
    "print('測試資料的正確率: %f'%(score[1]))"
   ]
  },
  {
   "cell_type": "code",
   "execution_count": 82,
   "metadata": {},
   "outputs": [],
   "source": [
    "model.save('20190510_Q9-1_model_weights.h5')"
   ]
  },
  {
   "cell_type": "markdown",
   "metadata": {},
   "source": [
    "## <font color=#4267b2> 小結</font>\n",
    "<font color=#4267b2>做完之後發現計算速度並沒有比之前全連結層還要快，不過相對之前神經元很少的作業準確率有更靠近100%。  \n",
    "再對比同學們的運算速度，感覺我的每個step都有慢一些，可能是電腦CPU的關係\n",
    "</font>"
   ]
  }
 ],
 "metadata": {
  "kernelspec": {
   "display_name": "Python 3",
   "language": "python",
   "name": "python3"
  },
  "language_info": {
   "codemirror_mode": {
    "name": "ipython",
    "version": 3
   },
   "file_extension": ".py",
   "mimetype": "text/x-python",
   "name": "python",
   "nbconvert_exporter": "python",
   "pygments_lexer": "ipython3",
   "version": "3.6.7"
  }
 },
 "nbformat": 4,
 "nbformat_minor": 2
}
