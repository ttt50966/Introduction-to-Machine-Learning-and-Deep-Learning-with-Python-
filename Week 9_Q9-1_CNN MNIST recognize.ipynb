{
 "cells": [
  {
   "cell_type": "markdown",
   "metadata": {},
   "source": [
    "# <font color=#4267b2>Q9-1 CNN</font>\n",
    "## <font color=#4267b2>設定及匯入需要的套件</font>"
   ]
  },
  {
   "cell_type": "code",
   "execution_count": 45,
   "metadata": {},
   "outputs": [
    {
     "name": "stdout",
     "output_type": "stream",
     "text": [
      "env: KERAS_BACKEND=tensorflow\n"
     ]
    }
   ],
   "source": [
    "%env KERAS_BACKEND=tensorflow"
   ]
  },
  {
   "cell_type": "code",
   "execution_count": 46,
   "metadata": {},
   "outputs": [],
   "source": [
    "%matplotlib inline\n",
    "import numpy as np\n",
    "import matplotlib.pyplot as plt\n",
    "from keras.datasets import mnist\n",
    "from ipywidgets import interact_manual\n",
    "from keras.utils import np_utils, plot_model \n",
    "from keras.models import Sequential, Model\n",
    "from keras.utils.vis_utils import model_to_dot\n",
    "from keras.layers import Dense, Activation, Input, concatenate, Flatten\n",
    "from keras.optimizers import Nadam,SGD\n",
    "from keras.layers import Conv2D, MaxPool2D"
   ]
  },
  {
   "cell_type": "markdown",
   "metadata": {},
   "source": [
    "## <font color=#4267b2>處理資料</font>\n",
    "### <font color=#4267b2>讀入MNIST檔案</font>"
   ]
  },
  {
   "cell_type": "code",
   "execution_count": 47,
   "metadata": {},
   "outputs": [],
   "source": [
    "(x_train0, y_train0), (x_test0, y_test0) = mnist.load_data()"
   ]
  },
  {
   "cell_type": "markdown",
   "metadata": {},
   "source": [
    "### <font color=#4267b2> x 正規化至0~1之間</font>\n",
    "### <font color=#4267b2> y 做one-hot處理</font>"
   ]
  },
  {
   "cell_type": "code",
   "execution_count": 48,
   "metadata": {},
   "outputs": [],
   "source": [
    "y_train = np_utils.to_categorical(y_train0, 10)\n",
    "y_test = np_utils.to_categorical(y_test0, 10)\n",
    "x_train = x_train0/255\n",
    "x_test = x_test0/255\n",
    "x_train_re = x_train.reshape(60000, 28,28,1)\n",
    "x_test_re = x_test.reshape(10000, 28,28,1)"
   ]
  },
  {
   "cell_type": "markdown",
   "metadata": {},
   "source": [
    "### <font color=#4267b2> 看看手寫文字長相</font>"
   ]
  },
  {
   "cell_type": "code",
   "execution_count": 49,
   "metadata": {},
   "outputs": [
    {
     "data": {
      "text/plain": [
       "<matplotlib.image.AxesImage at 0x22f310e77b8>"
      ]
     },
     "execution_count": 49,
     "metadata": {},
     "output_type": "execute_result"
    },
    {
     "data": {
      "image/png": "[encoded data removed]",
      "text/plain": [
       "<Figure size 432x288 with 1 Axes>"
      ]
     },
     "metadata": {
      "needs_background": "light"
     },
     "output_type": "display_data"
    }
   ],
   "source": [
    "X=x_train[94].reshape(28,28)\n",
    "plt.imshow(X)"
   ]
  },
  {
   "cell_type": "markdown",
   "metadata": {},
   "source": [
    "## <font color=#4267b2> 使用Function API 設計自己的CNN網路</font> \n",
    "### <font color=#4267b2> 根據之前的結果普遍用'selu'、'relu'有不錯的結果</font>"
   ]
  },
  {
   "cell_type": "code",
   "execution_count": 67,
   "metadata": {},
   "outputs": [],
   "source": [
    "x = Input(shape=(28,28,1))\n",
    "f_1=Conv2D(3,(5,5), padding='same',activation='relu')\n",
    "pool_1 = MaxPool2D(pool_size=(2, 2))\n",
    "f_2=Conv2D(6,(5,5), padding='same',activation='relu')\n",
    "pool_2 = MaxPool2D(pool_size=(2, 2))\n",
    "f_3=Conv2D(12,(5,5), padding='same',activation='selu')\n",
    "pool_3 = MaxPool2D(pool_size=(2, 2))\n",
    "f_4=Dense(10, activation='softmax')"
   ]
  },
  {
   "cell_type": "markdown",
   "metadata": {},
   "source": [
    "### <font color=#4267b2>看看輸入 x</font>"
   ]
  },
  {
   "cell_type": "code",
   "execution_count": 68,
   "metadata": {},
   "outputs": [
    {
     "name": "stdout",
     "output_type": "stream",
     "text": [
      "Tensor(\"input_8:0\", shape=(?, 28, 28, 1), dtype=float32)\n"
     ]
    }
   ],
   "source": [
    "print(x)"
   ]
  },
  {
   "cell_type": "markdown",
   "metadata": {},
   "source": [
    "### <font color=#4267b2> Function API</font>"
   ]
  },
  {
   "cell_type": "code",
   "execution_count": 69,
   "metadata": {},
   "outputs": [],
   "source": [
    "h_1=pool_1(f_1(x))\n",
    "h_2=pool_2(f_2(h_1))\n",
    "h_3=Flatten()(pool_3(f_3(h_2)))\n",
    "y=f_4(h_3)"
   ]
  },
  {
   "cell_type": "markdown",
   "metadata": {},
   "source": [
    "### <font color=#4267b2> 產生模型</font>"
   ]
  },
  {
   "cell_type": "code",
   "execution_count": 70,
   "metadata": {},
   "outputs": [
    {
     "name": "stdout",
     "output_type": "stream",
     "text": [
      "_________________________________________________________________\n",
      "Layer (type)                 Output Shape              Param #   \n",
      "=================================================================\n",
      "input_8 (InputLayer)         (None, 28, 28, 1)         0         \n",
      "_________________________________________________________________\n",
      "conv2d_22 (Conv2D)           (None, 28, 28, 3)         78        \n",
      "_________________________________________________________________\n",
      "max_pooling2d_22 (MaxPooling (None, 14, 14, 3)         0         \n",
      "_________________________________________________________________\n",
      "conv2d_23 (Conv2D)           (None, 14, 14, 6)         456       \n",
      "_________________________________________________________________\n",
      "max_pooling2d_23 (MaxPooling (None, 7, 7, 6)           0         \n",
      "_________________________________________________________________\n",
      "conv2d_24 (Conv2D)           (None, 7, 7, 12)          1812      \n",
      "_________________________________________________________________\n",
      "max_pooling2d_24 (MaxPooling (None, 3, 3, 12)          0         \n",
      "_________________________________________________________________\n",
      "flatten_8 (Flatten)          (None, 108)               0         \n",
      "_________________________________________________________________\n",
      "dense_8 (Dense)              (None, 10)                1090      \n",
      "=================================================================\n",
      "Total params: 3,436\n",
      "Trainable params: 3,436\n",
      "Non-trainable params: 0\n",
      "_________________________________________________________________\n"
     ]
    }
   ],
   "source": [
    "model=Model(x,y)\n",
    "model.summary()"
   ]
  },
  {
   "cell_type": "markdown",
   "metadata": {},
   "source": [
    "### <font color=#4267b2> 此處參考之前的參數，略微調高學習率至0.01</font>"
   ]
  },
  {
   "cell_type": "code",
   "execution_count": 71,
   "metadata": {},
   "outputs": [],
   "source": [
    "optimizer_Na = Nadam(lr=0.01, beta_1=0.9, beta_2=0.999, epsilon=1e-08, schedule_decay=0.004)\n",
    "model.compile(optimizer= optimizer_Na, loss='categorical_crossentropy', metrics=['acc'])"
   ]
  },
  {
   "cell_type": "code",
   "execution_count": 72,
   "metadata": {},
   "outputs": [
    {
     "name": "stdout",
     "output_type": "stream",
     "text": [
      "Epoch 1/10\n",
      "60000/60000 [==============================] - 26s 436us/step - loss: 0.5616 - acc: 0.8212\n",
      "Epoch 2/10\n",
      "60000/60000 [==============================] - 26s 434us/step - loss: 0.2890 - acc: 0.9230\n",
      "Epoch 3/10\n",
      "60000/60000 [==============================] - 26s 435us/step - loss: 0.1223 - acc: 0.9627\n",
      "Epoch 4/10\n",
      "60000/60000 [==============================] - 26s 434us/step - loss: 0.0870 - acc: 0.9729\n",
      "Epoch 5/10\n",
      "60000/60000 [==============================] - 26s 435us/step - loss: 0.0730 - acc: 0.9773\n",
      "Epoch 6/10\n",
      "60000/60000 [==============================] - 26s 437us/step - loss: 0.0635 - acc: 0.9803\n",
      "Epoch 7/10\n",
      "60000/60000 [==============================] - 27s 447us/step - loss: 0.0575 - acc: 0.9820\n",
      "Epoch 8/10\n",
      "60000/60000 [==============================] - 26s 438us/step - loss: 0.0522 - acc: 0.9837\n",
      "Epoch 9/10\n",
      "60000/60000 [==============================] - 26s 436us/step - loss: 0.0468 - acc: 0.9855\n",
      "Epoch 10/10\n",
      "60000/60000 [==============================] - 26s 436us/step - loss: 0.0448 - acc: 0.9857\n"
     ]
    },
    {
     "data": {
      "text/plain": [
       "<keras.callbacks.History at 0x22f10157b70>"
      ]
     },
     "execution_count": 72,
     "metadata": {},
     "output_type": "execute_result"
    }
   ],
   "source": [
    "model.fit(x_train_re,y_train,batch_size=1000, epochs=10)"
   ]
  },
  {
   "cell_type": "markdown",
   "metadata": {},
   "source": [
    "## <font color=#4267b2> 最終結果</font>"
   ]
  },
  {
   "cell_type": "code",
   "execution_count": 74,
   "metadata": {},
   "outputs": [
    {
     "name": "stdout",
     "output_type": "stream",
     "text": [
      "10000/10000 [==============================] - 4s 374us/step\n"
     ]
    },
    {
     "data": {
      "text/plain": [
       "0.9854"
      ]
     },
     "execution_count": 74,
     "metadata": {},
     "output_type": "execute_result"
    }
   ],
   "source": [
    "score = model.evaluate(x_test_re,y_test)\n",
    "score[1]"
   ]
  },
  {
   "cell_type": "code",
   "execution_count": 75,
   "metadata": {},
   "outputs": [
    {
     "name": "stdout",
     "output_type": "stream",
     "text": [
      "測試資料的 loss: 0.044471\n",
      "測試資料的正確率: 0.985400\n"
     ]
    }
   ],
   "source": [
    "print('測試資料的 loss: %f'%(score[0]))\n",
    "print('測試資料的正確率: %f'%(score[1]))"
   ]
  },
  {
   "cell_type": "code",
   "execution_count": 82,
   "metadata": {},
   "outputs": [],
   "source": [
    "model.save('20190510_Q9-1_model_weights.h5')"
   ]
  },
  {
   "cell_type": "markdown",
   "metadata": {},
   "source": [
    "## <font color=#4267b2> 小結</font>\n",
    "<font color=#4267b2>做完之後發現計算速度並沒有比之前全連結層還要快，不過相對之前神經元很少的作業準確率有更靠近100%。  \n",
    "再對比同學們的運算速度，感覺我的每個step都有慢一些，可能是電腦CPU的關係\n",
    "</font>"
   ]
  }
 ],
 "metadata": {
  "kernelspec": {
   "display_name": "Python 3",
   "language": "python",
   "name": "python3"
  },
  "language_info": {
   "codemirror_mode": {
    "name": "ipython",
    "version": 3
   },
   "file_extension": ".py",
   "mimetype": "text/x-python",
   "name": "python",
   "nbconvert_exporter": "python",
   "pygments_lexer": "ipython3",
   "version": "3.6.7"
  }
 },
 "nbformat": 4,
 "nbformat_minor": 2
}
