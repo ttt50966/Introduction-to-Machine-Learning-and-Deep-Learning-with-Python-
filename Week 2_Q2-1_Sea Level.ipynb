{
 "cells": [
  {
   "cell_type": "markdown",
   "metadata": {},
   "source": [
    "# Python機器學習與深度學習入門\n",
    "## 第二週 Jupyter 互動 - 海嘯來了，哪裡跑?"
   ]
  },
  {
   "cell_type": "markdown",
   "metadata": {},
   "source": [
    "利用這個 [Contour Map](http://contourmapcreator.urgr8.ch) 找出台北市的等高圖  \n",
    "但因爲API的限制，這裡只取 20x20 個點  \n",
    "如下圖:"
   ]
  },
  {
   "cell_type": "code",
   "execution_count": 1,
   "metadata": {},
   "outputs": [],
   "source": [
    "import numpy as np\n",
    "import matplotlib.pyplot as plt\n",
    "from ipywidgets import interact\n",
    "map_array = []\n",
    "with open('data/Week 2/map.txt', 'r') as f:\n",
    "    for line in f:\n",
    "        for item in line.split('\\t'):\n",
    "            map_array.append(float(item))\n",
    "map_array = np.asarray(map_array)\n",
    "map_array = map_array.reshape((20,20))\n",
    "map_array = np.rot90(map_array,2)\n",
    "map_array = np.fliplr(map_array)"
   ]
  },
  {
   "cell_type": "markdown",
   "metadata": {},
   "source": [
    "## 台北市等高圖"
   ]
  },
  {
   "cell_type": "code",
   "execution_count": 6,
   "metadata": {},
   "outputs": [
    {
     "data": {
      "image/png": "[encoded data removed]",
      "text/plain": [
       "<Figure size 432x288 with 1 Axes>"
      ]
     },
     "metadata": {
      "needs_background": "light"
     },
     "output_type": "display_data"
    }
   ],
   "source": [
    "plt.contourf(map_array);"
   ]
  },
  {
   "cell_type": "markdown",
   "metadata": {},
   "source": [
    "## 查看圖內最高點、最低點"
   ]
  },
  {
   "cell_type": "code",
   "execution_count": 3,
   "metadata": {},
   "outputs": [
    {
     "name": "stdout",
     "output_type": "stream",
     "text": [
      "-94.57495880126953\n",
      "954.6568603515625\n"
     ]
    }
   ],
   "source": [
    "print(map_array.min())\n",
    "print(map_array.max())"
   ]
  },
  {
   "cell_type": "code",
   "execution_count": 5,
   "metadata": {},
   "outputs": [
    {
     "data": {
      "application/vnd.jupyter.widget-view+json": {
       "model_id": "76178969ee7c4b6ea6c75f54bbdef74c",
       "version_major": 2,
       "version_minor": 0
      },
      "text/plain": [
       "interactive(children=(IntSlider(value=-40, description='SEA_LEVEL', max=950, min=-40), Output()), _dom_classes…"
      ]
     },
     "metadata": {},
     "output_type": "display_data"
    }
   ],
   "source": [
    "new_map_array = np.empty((20,20))\n",
    "def change_SEA_LEVEL(SEA_LEVEL= - 40):\n",
    "    for i in range(20):\n",
    "        for j in range(20):\n",
    "            if map_array[i][j] < SEA_LEVEL:\n",
    "                new_map_array[i][j] = SEA_LEVEL\n",
    "            else:\n",
    "                new_map_array[i][j] = map_array[i][j]\n",
    "    plt.contourf(new_map_array)\n",
    "    plt.text(5, -3,\"Sea Level : {} m\".format(SEA_LEVEL), fontsize=20 )\n",
    "interact(change_SEA_LEVEL, SEA_LEVEL=(-40, 950));"
   ]
  },
  {
   "cell_type": "markdown",
   "metadata": {},
   "source": [
    "## 最終結果 GIF圖\n",
    "![](https://i.imgur.com/UTFD2I7.gif)"
   ]
  },
  {
   "cell_type": "markdown",
   "metadata": {},
   "source": [
    "## 大家快逃去陽明山吧 !"
   ]
  }
 ],
 "metadata": {
  "kernelspec": {
   "display_name": "Python 3",
   "language": "python",
   "name": "python3"
  },
  "language_info": {
   "codemirror_mode": {
    "name": "ipython",
    "version": 3
   },
   "file_extension": ".py",
   "mimetype": "text/x-python",
   "name": "python",
   "nbconvert_exporter": "python",
   "pygments_lexer": "ipython3",
   "version": "3.6.7"
  }
 },
 "nbformat": 4,
 "nbformat_minor": 2
}
