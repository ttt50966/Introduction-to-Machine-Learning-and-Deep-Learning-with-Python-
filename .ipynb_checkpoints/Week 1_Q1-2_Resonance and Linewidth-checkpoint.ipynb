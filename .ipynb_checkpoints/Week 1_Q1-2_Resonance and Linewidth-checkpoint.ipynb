{
 "cells": [
  {
   "cell_type": "markdown",
   "metadata": {},
   "source": [
    "# Python機器學習與深度學習入門\n",
    "## 第一週 Q1-2 互動畫圖\n",
    "### 更容易了解式子裡的參數對模型的影響\n",
    "![](https://scontent-hkg3-1.xx.fbcdn.net/v/t1.0-9/52665256_10216502154758895_2601028105648734208_o.jpg?_nc_cat=107&_nc_ht=scontent-hkg3-1.xx&oh=ed830dc2221a0ce27a4fff6130f29719&oe=5CE2336A)\n",
    "### 畫出不同頻率的光通過介質時的色散表現(Dispersion)\n",
    "### 相對介電常數($\\epsilon_{r} = \\epsilon_{1} + i \\epsilon_{2}$)將會隨著頻率變化\n",
    "### 相關介紹可以參考[相對電容率 from 維基百科](https://zh.wikipedia.org/wiki/相对电容率)\n",
    "\n",
    "## Formula of Resonance and Linewidth\n",
    "### $\\epsilon_{1}(\\Delta \\omega) = \\epsilon_{\\infty}-(\\epsilon_{st}-\\epsilon_{\\infty})\\frac{2\\omega_{0}\\Delta\\omega}{4(\\Delta\\omega)^{2}+\\gamma^{2}}$\n",
    "\n",
    "### $\\epsilon_{2}(\\Delta \\omega) = (\\epsilon_{st}-\\epsilon_{\\infty})\\frac{\\gamma \\cdot \\omega_{0}}{4(\\Delta\\omega)^{2}+\\gamma^{2}}$  \n",
    "\n",
    "## Initial paramter\n",
    "### $\\omega_{0} = 100$ *THz* \n",
    "自然共振頻率\n",
    "### $\\gamma = 5 $ *THz*\n",
    "在介電材料中發生的能量損耗，產生的阻尼震盪率\n",
    "### $\\epsilon_{st} = 12.1$\n",
    "頻率趨近於零的相對介電常數\n",
    "### $\\epsilon_{\\infty} = 10$\n",
    "頻率趨近於無限大的相對介電常數"
   ]
  },
  {
   "cell_type": "code",
   "execution_count": 1,
   "metadata": {},
   "outputs": [],
   "source": [
    "import numpy as np\n",
    "import matplotlib.pyplot as plt\n",
    "omega = np.linspace(0,500, 1500)\n",
    "omega_0 = 100\n",
    "gamma = 5\n",
    "epsilon_st = 12.1\n",
    "epsilon_infty = 10"
   ]
  },
  {
   "cell_type": "code",
   "execution_count": 2,
   "metadata": {},
   "outputs": [],
   "source": [
    "def plotFn(omega_0=100,gamma=5, epsilon_st=12.1, epsilon_infty=10):\n",
    "    epsilon_1 = epsilon_infty - (epsilon_st - epsilon_infty)*2*omega_0*(omega-omega_0)/(4*(omega-omega_0)**2+gamma**2)\n",
    "    epsilon_2 = (epsilon_st - epsilon_infty)*gamma*omega_0/(4*(omega-omega_0)**2+gamma**2)\n",
    "    half_peak_value = (epsilon_st - epsilon_infty)*gamma*omega_0/(2*gamma**2)\n",
    "    plt.figure(dpi=120)\n",
    "    plt.subplot(2,1,1)\n",
    "    plt.title(\"Relative permittivity (Real part)\",fontsize=12)\n",
    "    plt.ylabel(r\"$\\epsilon_{1}$\",fontsize=18)\n",
    "    plt.xlabel(r\"$\\omega$ (THz)\", fontsize=12)\n",
    "    plt.ylim(-50,50)\n",
    "    plt.plot(omega,epsilon_1)\n",
    "    plt.axvline(x=omega_0,color='b')\n",
    "    plt.plot(omega[0:300],[epsilon_st]*300,'-',color='r')\n",
    "    plt.plot(omega[1200:1500],[epsilon_infty]*300,'-',color='r')\n",
    "    plt.text(3,epsilon_st-20,'$\\epsilon_{st}$',fontsize = 20)\n",
    "    plt.text(425,epsilon_infty-20,'$\\epsilon_{\\infty}$',fontsize = 20)\n",
    "    plt.subplot(2,1,2)\n",
    "    plt.title(r\"Relative permittivity (Imaginary part)\",fontsize=12)\n",
    "    plt.ylabel(r\"$\\epsilon_{2}$\",fontsize=18)\n",
    "    plt.xlabel(r\"$\\omega$ (THz)\", fontsize=12)\n",
    "    plt.ylim(-10,70)\n",
    "    plt.plot(omega,epsilon_2)\n",
    "    plt.plot(np.linspace(omega_0-gamma/2,omega_0+gamma/2,200),[half_peak_value]*200)\n",
    "    plt.text(omega_0+gamma/2+3,half_peak_value,r\"$\\gamma$\",fontsize=16)\n",
    "    plt.axvline(x=omega_0,color='b')\n",
    "    plt.tight_layout()"
   ]
  },
  {
   "cell_type": "code",
   "execution_count": 3,
   "metadata": {},
   "outputs": [
    {
     "data": {
      "application/vnd.jupyter.widget-view+json": {
       "model_id": "16ae4d8b12674967a163356267f8dac7",
       "version_major": 2,
       "version_minor": 0
      },
      "text/plain": [
       "interactive(children=(IntSlider(value=100, description='omega_0', max=200, min=10), IntSlider(value=5, descrip…"
      ]
     },
     "metadata": {},
     "output_type": "display_data"
    },
    {
     "data": {
      "text/plain": [
       "<function __main__.plotFn(omega_0=100, gamma=5, epsilon_st=12.1, epsilon_infty=10)>"
      ]
     },
     "execution_count": 3,
     "metadata": {},
     "output_type": "execute_result"
    }
   ],
   "source": [
    "from ipywidgets import interact\n",
    "#plotFn(100, 5, 12.1, 10)\n",
    "interact(plotFn, omega_0=(10, 200), gamma=(1,50), epsilon_st=(1.0,20.0), epsilon_infty=(1.0, 20.0))"
   ]
  },
  {
   "cell_type": "markdown",
   "metadata": {},
   "source": [
    "## **補充1**：開啟nbviewer後沒辦法使用interact widgets\n",
    "![](https://github.com/ttt50966/Introduction-to-Machine-Learning-and-Deep-Learning-with-Python-/blob/master/fig/Q1-2_01.png?raw=true)\n",
    "### 接著等待它裝好需要的package\n",
    "![](https://github.com/ttt50966/Introduction-to-Machine-Learning-and-Deep-Learning-with-Python-/blob/master/fig/Q1-2_02.png?raw=true)\n"
   ]
  },
  {
   "cell_type": "markdown",
   "metadata": {},
   "source": [
    "## **補充2**： $\\LaTeX$ 語法\n",
    "如果有把最上面的式子：$\\epsilon_{1}(\\Delta \\omega) = \\epsilon_{\\infty}-(\\epsilon_{st}-\\epsilon_{\\infty})\\frac{2\\omega_{0}\\Delta\\omega}{4(\\Delta\\omega)^{2}+\\gamma^{2}}$ 在 Markdown Cell 中展開來看  \n",
    "會發現原本內容爲：`$\\epsilon_{1}(\\Delta \\omega) = \\epsilon_{\\infty}-(\\epsilon_{st}-\\epsilon_{\\infty})\\frac{2\\omega_{0}\\Delta\\omega}{4(\\Delta\\omega)^{2}+\\gamma^{2}}$`  \n",
    "\n",
    "這是利用 '`$`'這個符號括起來，來啟用 $\\LaTeX$ 模式  \n",
    "$\\LaTeX$ 是一個排版的程式，可直接套用進 Jupyter notebook 的 Markdown cell 中  \n",
    "其中最方便的地方就是可以寫出易讀的方程式以及羅馬符號  \n",
    "詳細如何利用$\\LaTeX$來排版可以參考[維基百科](https://zh.wikipedia.org/zh-tw/LaTeX)介紹以及[$\\LaTeX$ project](https://www.latex-project.org)網頁\n",
    "\n",
    "### 也可以用在 **Matplotlib** 中！\n",
    "應該看得出來上面的圖中**標題**、**X座標**、**Y座標**，也有用到$\\LaTeX$  \n",
    "其實只需要在字串前面加上`r`就可以切換了！  \n",
    "例如: `plt.title(x,y,r'$.....$')`"
   ]
  },
  {
   "cell_type": "code",
   "execution_count": null,
   "metadata": {},
   "outputs": [],
   "source": []
  }
 ],
 "metadata": {
  "kernelspec": {
   "display_name": "Python 3",
   "language": "python",
   "name": "python3"
  },
  "language_info": {
   "codemirror_mode": {
    "name": "ipython",
    "version": 3
   },
   "file_extension": ".py",
   "mimetype": "text/x-python",
   "name": "python",
   "nbconvert_exporter": "python",
   "pygments_lexer": "ipython3",
   "version": "3.6.7"
  }
 },
 "nbformat": 4,
 "nbformat_minor": 2
}
